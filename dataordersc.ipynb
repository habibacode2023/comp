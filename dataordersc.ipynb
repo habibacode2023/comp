{
 "cells": [
  {
   "cell_type": "code",
   "execution_count": 19,
   "metadata": {},
   "outputs": [
    {
     "data": {
      "text/html": [
       "<div>\n",
       "<style scoped>\n",
       "    .dataframe tbody tr th:only-of-type {\n",
       "        vertical-align: middle;\n",
       "    }\n",
       "\n",
       "    .dataframe tbody tr th {\n",
       "        vertical-align: top;\n",
       "    }\n",
       "\n",
       "    .dataframe thead th {\n",
       "        text-align: right;\n",
       "    }\n",
       "</style>\n",
       "<table border=\"1\" class=\"dataframe\">\n",
       "  <thead>\n",
       "    <tr style=\"text-align: right;\">\n",
       "      <th></th>\n",
       "      <th>Order ID</th>\n",
       "      <th>Order Item ID</th>\n",
       "      <th>Order YearMonth</th>\n",
       "      <th>Order Year</th>\n",
       "      <th>Order Month</th>\n",
       "      <th>Order Day</th>\n",
       "      <th>Order Time</th>\n",
       "      <th>Order Quantity</th>\n",
       "      <th>Product Department</th>\n",
       "      <th>Product Category</th>\n",
       "      <th>...</th>\n",
       "      <th>Customer Country</th>\n",
       "      <th>Warehouse Country</th>\n",
       "      <th>Shipment Year</th>\n",
       "      <th>Shipment Month</th>\n",
       "      <th>Shipment Day</th>\n",
       "      <th>Shipment Mode</th>\n",
       "      <th>Shipment Days - Scheduled</th>\n",
       "      <th>Gross Sales</th>\n",
       "      <th>Discount %</th>\n",
       "      <th>Profit</th>\n",
       "    </tr>\n",
       "  </thead>\n",
       "  <tbody>\n",
       "    <tr>\n",
       "      <th>0</th>\n",
       "      <td>3535</td>\n",
       "      <td>8793</td>\n",
       "      <td>2015-02-01</td>\n",
       "      <td>2015</td>\n",
       "      <td>2</td>\n",
       "      <td>21</td>\n",
       "      <td>14:07</td>\n",
       "      <td>1</td>\n",
       "      <td>Fan Shop</td>\n",
       "      <td>Fishing</td>\n",
       "      <td>...</td>\n",
       "      <td>Mexico</td>\n",
       "      <td>Puerto Rico</td>\n",
       "      <td>2015</td>\n",
       "      <td>2</td>\n",
       "      <td>27</td>\n",
       "      <td>Standard Class</td>\n",
       "      <td>4</td>\n",
       "      <td>400</td>\n",
       "      <td>0.25</td>\n",
       "      <td>200</td>\n",
       "    </tr>\n",
       "    <tr>\n",
       "      <th>1</th>\n",
       "      <td>4133</td>\n",
       "      <td>10320</td>\n",
       "      <td>2015-03-01</td>\n",
       "      <td>2015</td>\n",
       "      <td>3</td>\n",
       "      <td>2</td>\n",
       "      <td>07:37</td>\n",
       "      <td>1</td>\n",
       "      <td>Fan Shop</td>\n",
       "      <td>Fishing</td>\n",
       "      <td>...</td>\n",
       "      <td>Brazil</td>\n",
       "      <td>Puerto Rico</td>\n",
       "      <td>2015</td>\n",
       "      <td>3</td>\n",
       "      <td>6</td>\n",
       "      <td>Standard Class</td>\n",
       "      <td>4</td>\n",
       "      <td>400</td>\n",
       "      <td>0.09</td>\n",
       "      <td>200</td>\n",
       "    </tr>\n",
       "    <tr>\n",
       "      <th>2</th>\n",
       "      <td>7396</td>\n",
       "      <td>18517</td>\n",
       "      <td>2015-04-01</td>\n",
       "      <td>2015</td>\n",
       "      <td>4</td>\n",
       "      <td>18</td>\n",
       "      <td>22:47</td>\n",
       "      <td>1</td>\n",
       "      <td>Fan Shop</td>\n",
       "      <td>Fishing</td>\n",
       "      <td>...</td>\n",
       "      <td>Mexico</td>\n",
       "      <td>Puerto Rico</td>\n",
       "      <td>2015</td>\n",
       "      <td>4</td>\n",
       "      <td>20</td>\n",
       "      <td>Standard Class</td>\n",
       "      <td>4</td>\n",
       "      <td>400</td>\n",
       "      <td>0.06</td>\n",
       "      <td>200</td>\n",
       "    </tr>\n",
       "    <tr>\n",
       "      <th>3</th>\n",
       "      <td>11026</td>\n",
       "      <td>27608</td>\n",
       "      <td>2015-06-01</td>\n",
       "      <td>2015</td>\n",
       "      <td>6</td>\n",
       "      <td>10</td>\n",
       "      <td>22:32</td>\n",
       "      <td>1</td>\n",
       "      <td>Fan Shop</td>\n",
       "      <td>Fishing</td>\n",
       "      <td>...</td>\n",
       "      <td>Denmark</td>\n",
       "      <td>Puerto Rico</td>\n",
       "      <td>2015</td>\n",
       "      <td>6</td>\n",
       "      <td>12</td>\n",
       "      <td>Standard Class</td>\n",
       "      <td>4</td>\n",
       "      <td>400</td>\n",
       "      <td>0.15</td>\n",
       "      <td>200</td>\n",
       "    </tr>\n",
       "    <tr>\n",
       "      <th>4</th>\n",
       "      <td>11026</td>\n",
       "      <td>27609</td>\n",
       "      <td>2015-06-01</td>\n",
       "      <td>2015</td>\n",
       "      <td>6</td>\n",
       "      <td>10</td>\n",
       "      <td>22:32</td>\n",
       "      <td>1</td>\n",
       "      <td>Fan Shop</td>\n",
       "      <td>Fishing</td>\n",
       "      <td>...</td>\n",
       "      <td>Denmark</td>\n",
       "      <td>Puerto Rico</td>\n",
       "      <td>2015</td>\n",
       "      <td>6</td>\n",
       "      <td>12</td>\n",
       "      <td>Standard Class</td>\n",
       "      <td>4</td>\n",
       "      <td>400</td>\n",
       "      <td>0.13</td>\n",
       "      <td>200</td>\n",
       "    </tr>\n",
       "  </tbody>\n",
       "</table>\n",
       "<p>5 rows × 24 columns</p>\n",
       "</div>"
      ],
      "text/plain": [
       "   Order ID    Order Item ID   Order YearMonth    Order Year    Order Month   \\\n",
       "0       3535             8793        2015-02-01          2015              2   \n",
       "1       4133            10320        2015-03-01          2015              3   \n",
       "2       7396            18517        2015-04-01          2015              4   \n",
       "3      11026            27608        2015-06-01          2015              6   \n",
       "4      11026            27609        2015-06-01          2015              6   \n",
       "\n",
       "    Order Day  Order Time  Order Quantity Product Department Product Category  \\\n",
       "0           21      14:07               1           Fan Shop          Fishing   \n",
       "1            2      07:37               1           Fan Shop          Fishing   \n",
       "2           18      22:47               1           Fan Shop          Fishing   \n",
       "3           10      22:32               1           Fan Shop          Fishing   \n",
       "4           10      22:32               1           Fan Shop          Fishing   \n",
       "\n",
       "   ... Customer Country  Warehouse Country Shipment Year Shipment Month  \\\n",
       "0  ...           Mexico        Puerto Rico          2015              2   \n",
       "1  ...           Brazil        Puerto Rico          2015              3   \n",
       "2  ...           Mexico        Puerto Rico          2015              4   \n",
       "3  ...          Denmark        Puerto Rico          2015              6   \n",
       "4  ...          Denmark        Puerto Rico          2015              6   \n",
       "\n",
       "  Shipment Day   Shipment Mode   Shipment Days - Scheduled    Gross Sales   \\\n",
       "0           27  Standard Class                            4            400   \n",
       "1            6  Standard Class                            4            400   \n",
       "2           20  Standard Class                            4            400   \n",
       "3           12  Standard Class                            4            400   \n",
       "4           12  Standard Class                            4            400   \n",
       "\n",
       "    Discount %   Profit   \n",
       "0          0.25      200  \n",
       "1          0.09      200  \n",
       "2          0.06      200  \n",
       "3          0.15      200  \n",
       "4          0.13      200  \n",
       "\n",
       "[5 rows x 24 columns]"
      ]
     },
     "execution_count": 19,
     "metadata": {},
     "output_type": "execute_result"
    }
   ],
   "source": [
    "import pandas as pd\n",
    "\n",
    "orders=\"orders_and_shipments.csv\"\n",
    "df=pd.read_csv(orders)\n",
    "\n",
    "df[' Order YearMonth '] = pd.to_datetime(df[' Order YearMonth '], format='%Y%m')\n",
    "df.head()"
   ]
  },
  {
   "cell_type": "code",
   "execution_count": 39,
   "metadata": {},
   "outputs": [
    {
     "name": "stdout",
     "output_type": "stream",
     "text": [
      "<class 'pandas.core.frame.DataFrame'>\n",
      "RangeIndex: 30871 entries, 0 to 30870\n",
      "Data columns (total 24 columns):\n",
      " #   Column                       Non-Null Count  Dtype         \n",
      "---  ------                       --------------  -----         \n",
      " 0   Order ID                     30871 non-null  int64         \n",
      " 1    Order Item ID               30871 non-null  int64         \n",
      " 2    Order YearMonth             30871 non-null  datetime64[ns]\n",
      " 3    Order Year                  30871 non-null  int64         \n",
      " 4    Order Month                 30871 non-null  int64         \n",
      " 5    Order Day                   30871 non-null  int64         \n",
      " 6   Order Time                   30871 non-null  object        \n",
      " 7   Order Quantity               30871 non-null  int64         \n",
      " 8   Product Department           30871 non-null  object        \n",
      " 9   Product Category             30871 non-null  object        \n",
      " 10  Product Name                 30871 non-null  object        \n",
      " 11   Customer ID                 30871 non-null  int64         \n",
      " 12  Customer Market              30871 non-null  object        \n",
      " 13  Customer Region              30871 non-null  object        \n",
      " 14  Customer Country             30871 non-null  object        \n",
      " 15  Warehouse Country            30871 non-null  object        \n",
      " 16  Shipment Year                30871 non-null  int64         \n",
      " 17  Shipment Month               30871 non-null  int64         \n",
      " 18  Shipment Day                 30871 non-null  int64         \n",
      " 19  Shipment Mode                30871 non-null  object        \n",
      " 20   Shipment Days - Scheduled   30871 non-null  int64         \n",
      " 21   Gross Sales                 30871 non-null  int64         \n",
      " 22   Discount %                  30871 non-null  object        \n",
      " 23   Profit                      30871 non-null  int64         \n",
      "dtypes: datetime64[ns](1), int64(13), object(10)\n",
      "memory usage: 5.7+ MB\n"
     ]
    }
   ],
   "source": [
    "df.info()"
   ]
  },
  {
   "cell_type": "code",
   "execution_count": 24,
   "metadata": {},
   "outputs": [
    {
     "data": {
      "text/plain": [
       "Order ID                       11072\n",
       " Order Item ID                 30871\n",
       " Order YearMonth                  36\n",
       " Order Year                        3\n",
       " Order Month                      12\n",
       " Order Day                        31\n",
       "Order Time                      1440\n",
       "Order Quantity                     5\n",
       "Product Department                11\n",
       "Product Category                  49\n",
       "Product Name                     113\n",
       " Customer ID                    7987\n",
       "Customer Market                    5\n",
       "Customer Region                   23\n",
       "Customer Country                 139\n",
       "Warehouse Country                  2\n",
       "Shipment Year                      3\n",
       "Shipment Month                    12\n",
       "Shipment Day                      31\n",
       "Shipment Mode                      4\n",
       " Shipment Days - Scheduled         4\n",
       " Gross Sales                     101\n",
       " Discount %                       18\n",
       " Profit                           78\n",
       "dtype: int64"
      ]
     },
     "execution_count": 24,
     "metadata": {},
     "output_type": "execute_result"
    }
   ],
   "source": [
    "df.nunique()"
   ]
  },
  {
   "cell_type": "code",
   "execution_count": 31,
   "metadata": {},
   "outputs": [
    {
     "data": {
      "text/plain": [
       "Order Quantity\n",
       "1    16689\n",
       "5     3614\n",
       "2     3563\n",
       "3     3538\n",
       "4     3467\n",
       "Name: count, dtype: int64"
      ]
     },
     "execution_count": 31,
     "metadata": {},
     "output_type": "execute_result"
    }
   ],
   "source": [
    "df['Order Quantity'].value_counts()"
   ]
  },
  {
   "cell_type": "code",
   "execution_count": 25,
   "metadata": {},
   "outputs": [
    {
     "data": {
      "text/plain": [
       "Customer Market\n",
       "LATAM            9118\n",
       "Europe           8624\n",
       "Pacific Asia     6521\n",
       "North America    4563\n",
       "Africa           2045\n",
       "Name: count, dtype: int64"
      ]
     },
     "execution_count": 25,
     "metadata": {},
     "output_type": "execute_result"
    }
   ],
   "source": [
    "df['Customer Market'].value_counts()"
   ]
  },
  {
   "cell_type": "code",
   "execution_count": 27,
   "metadata": {},
   "outputs": [
    {
     "data": {
      "text/plain": [
       "Warehouse Country\n",
       "USA            18997\n",
       "Puerto Rico    11874\n",
       "Name: count, dtype: int64"
      ]
     },
     "execution_count": 27,
     "metadata": {},
     "output_type": "execute_result"
    }
   ],
   "source": [
    "df['Warehouse Country'].value_counts()\n"
   ]
  }
 ],
 "metadata": {
  "kernelspec": {
   "display_name": "Python 3.11.3 64-bit (microsoft store)",
   "language": "python",
   "name": "python3"
  },
  "language_info": {
   "codemirror_mode": {
    "name": "ipython",
    "version": 3
   },
   "file_extension": ".py",
   "mimetype": "text/x-python",
   "name": "python",
   "nbconvert_exporter": "python",
   "pygments_lexer": "ipython3",
   "version": "3.11.3"
  },
  "orig_nbformat": 4,
  "vscode": {
   "interpreter": {
    "hash": "899e484c10671d1b5126d386f9569d04d1822dd8702e1f42f071736dee62f31c"
   }
  }
 },
 "nbformat": 4,
 "nbformat_minor": 2
}
